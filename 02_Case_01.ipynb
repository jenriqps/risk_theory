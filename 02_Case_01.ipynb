{
 "cells": [
  {
   "cell_type": "markdown",
   "id": "b5aba4f5-da82-476d-8a36-3cce246b0b2e",
   "metadata": {},
   "source": [
    "# Case 1: Group Life Insurance"
   ]
  },
  {
   "cell_type": "markdown",
   "id": "45a639d8-5e1f-413b-967e-9c5c256387c1",
   "metadata": {},
   "source": [
    "Actuarial Science Undergratuate Program | Business Faculty | Risk Theory Class | José Enrique Pérez Salvador"
   ]
  },
  {
   "cell_type": "markdown",
   "id": "8c9ce698-5665-44e9-ba75-229f0ead3780",
   "metadata": {},
   "source": [
    "A small Mexican manufacturing business has a 1-year group life insurance contract on its 14 permanent employees. Your actuarial manager, María, working for the Mexican insurer that provides the group life insurance to the manufacturing business, has the following assumptions when modeling the contract:"
   ]
  },
  {
   "cell_type": "markdown",
   "id": "57dcb25d-cffc-4276-a25a-50e77b4337a5",
   "metadata": {},
   "source": [
    "1) The mortality table “Tasas de Mortalidad Grupo CNSF 2000-G (1991-1998)” (download it from https://mort.soa.org/  ).\n",
    "2) Each employee is insured for the amount of his/her salary rounded up to the next 1,000 MXN.\n",
    "3) The group’s data are given in the next table."
   ]
  },
  {
   "cell_type": "markdown",
   "id": "8e440d05-5093-4aa7-b340-900de795da5d",
   "metadata": {},
   "source": [
    "You are an actuarial analyst who reports to María."
   ]
  },
  {
   "cell_type": "markdown",
   "id": "c42e3383-fe94-4cea-b312-43de7dc64fc9",
   "metadata": {},
   "source": [
    "..."
   ]
  },
  {
   "cell_type": "markdown",
   "id": "64854ec4-8360-4fa4-abf6-10774d35e313",
   "metadata": {},
   "source": [
    "## h) María requires you a risk analysis to answer the question: What are the chances that the insurer will lose money in this contract❓ Use the following approximations:... 1 million simulations"
   ]
  },
  {
   "cell_type": "code",
   "execution_count": null,
   "id": "666fc1f1-6422-4006-b843-d6b5c0041fcc",
   "metadata": {},
   "outputs": [],
   "source": [
    "* Number of simulations;\n",
    "%let m = 1000000;\n",
    "* Gross premium;\n",
    "%let G = 2947.72;"
   ]
  },
  {
   "cell_type": "code",
   "execution_count": null,
   "id": "57bca758-e8eb-46de-835d-5aa9116d8bf1",
   "metadata": {},
   "outputs": [],
   "source": [
    "proc iml;\n",
    "\t* Fix the random seed to replicate results between users and accross time;\n",
    "\tcall randseed(2025);\t\n",
    "\t* Number of risk units in the individual risk model;\n",
    "\tn=14;\n",
    "\t* Matrix for the parameters;\n",
    "\tpar=j(n,2,.);\n",
    "\t* Benefits;\n",
    "\tpar[,1]={15000,16000,20000,28000,31000,18000,26000,24000,60000,14000,17000,19000,30000,55000};\n",
    "\t* Mortality rates;\n",
    "\tpar[,2]={0.000965,0.001069,0.001252,0.001434,0.001505,0.003751,0.004037,0.004698,0.017778,0.000884,0.001031,0.001201,0.002078,0.007682};\n",
    "\t* Matrix for the Bernoulli simulations;\n",
    "\tber = j(n,&m.,.);\n",
    "\t* Matrix for the loss simulations;\n",
    "\tX = j(n,&m.,.);\n",
    "\tprint(par);\n",
    "\t* Simulating the deaths of the 14 employees;\n",
    "\tdo i=1 to n;\n",
    "\t\taux=j(1,&m.,.);\n",
    "\t\tq = par[i,2];\n",
    "\t\tcall randgen(aux,\"Bernoulli\",q);\n",
    "\t\tber[i,]=aux;\n",
    "\tend;\n",
    "\t* Simulating the losses; \n",
    "\tX = par[,1]#ber;\n",
    "\tS = X[+,];\n",
    "\t* Sending the results to a dataset;\n",
    "\tcreate aggclaim var{S};\n",
    "\tappend;\n",
    "\tclose aggclaim;\n",
    "quit;\n"
   ]
  },
  {
   "cell_type": "code",
   "execution_count": null,
   "id": "57be61a3-3ceb-407d-b045-7f7c8edf02ab",
   "metadata": {},
   "outputs": [],
   "source": [
    "* Changing formats and labels so the data set looks better;\n",
    "proc datasets lib=work nodetails nolist;\n",
    "\tmodify aggclaim;\n",
    "\tlabel\n",
    "\tS=\"Total claim in the group life insurance\"; \n",
    "\tformat\n",
    "\tS nlnum16.2;\n",
    "quit;"
   ]
  },
  {
   "cell_type": "code",
   "execution_count": null,
   "id": "d18af98a-cbf5-4300-8382-0d2aada42032",
   "metadata": {},
   "outputs": [],
   "source": [
    "title \"Distribution of the aggregate loss (S)\";\n",
    "proc sgplot data=work.aggclaim;\n",
    "\thistogram S;\n",
    "\tdensity S / type=normal transparency=0.7;\n",
    "\txaxis grid;\n",
    "\tyaxis grid;\n",
    "run;\n",
    "title;"
   ]
  },
  {
   "cell_type": "code",
   "execution_count": null,
   "id": "a3d1f830-2040-410c-917a-8ce59247eb9b",
   "metadata": {},
   "outputs": [],
   "source": [
    "proc freq data=work.aggclaim;\n",
    "run;"
   ]
  },
  {
   "cell_type": "code",
   "execution_count": null,
   "id": "0aa133b5-e2f3-4c82-90ba-0d4200648ce9",
   "metadata": {},
   "outputs": [],
   "source": [
    "title \"Are the simulated mean, variance and skewness similar to the previous results?\";\n",
    "proc means data=work.aggclaim mean var skewness;\n",
    "\tvar S;\n",
    "run;\n",
    "title;"
   ]
  },
  {
   "cell_type": "code",
   "execution_count": null,
   "id": "22fb88e3-9512-4780-b880-b981b0e3c897",
   "metadata": {},
   "outputs": [],
   "source": [
    "title \"Probability of losing money in this contract\";\n",
    "proc sql;\n",
    "\tselect count(*)/&m. as \"P[S>G]\"n\n",
    "\tfrom work.aggclaim\n",
    "\twhere S > &G.;\n",
    "quit;\n",
    "title;"
   ]
  },
  {
   "cell_type": "markdown",
   "id": "9cf4acb4-0348-4855-aa0c-625052e7ed0c",
   "metadata": {},
   "source": [
    "..."
   ]
  },
  {
   "cell_type": "markdown",
   "id": "94cbb185-1f63-44c1-91b3-29b0a95d5e60",
   "metadata": {},
   "source": [
    "## j) Calculate the exact distribution of 𝑆 with the following approach:\n",
    "- Define every state of the world i.e. all the possible combinations with an alive/dead status for every employee, how many states of the world are there❓Calculate the total claim and the probability of every state of the world. Calculate the probability function of 𝑆."
   ]
  },
  {
   "cell_type": "code",
   "execution_count": null,
   "id": "99a0346c-e2a8-4976-a3af-32e840ff8c5d",
   "metadata": {},
   "outputs": [],
   "source": [
    "* Number of risk units in the individual risk model;\n",
    "%let ne=14;\n",
    "%put &=ne.;\n",
    "* Gross premium;\n",
    "%let G = 2947.72;"
   ]
  },
  {
   "cell_type": "code",
   "execution_count": null,
   "id": "3666e450-e966-47d8-87f0-47d469ab4182",
   "metadata": {},
   "outputs": [],
   "source": [
    "%MACRO allcombinations(n=);\n",
    "/*\n",
    "Purpose: To calculate all the states of the world for each employee \n",
    "n: number of employees\n",
    "*/\n",
    "\t* i is the number of deaths;\n",
    "\t%do i=1 %to &n.;\n",
    "\t\t* Computing the number of combinations;\n",
    "\t\tdata _null_;\n",
    "\t\t\tcall symputx('nc',comb(&n.,&i.));\n",
    "\t\trun;\n",
    "\t\t%put There are &nc. state(s) of the world with &i. death(s) in the population of &n. employees.;\n",
    "\t\t* Generating the combinations;\n",
    "\t\tproc plan seed=2025;\n",
    "\t\t\tfactors iter=&nc. ordered id_employee = &i. of &n. comb / noprint;\n",
    "\t\t\toutput out=comb_&i.;\n",
    "\t\trun;\n",
    "\t\t* Saving the results;\n",
    "\t\tdata id_comb_&i.;\t\t\t\n",
    "\t\t\tnumber_deaths=&i.;\n",
    "\t\t\tis_dead=1;\n",
    "\t\t\tset comb_&i.;\n",
    "\t\trun;\n",
    "\t%end;\n",
    "\t* Appending the results;\n",
    "\tdata death;\n",
    "\t\tset id_comb_:;\n",
    "\trun;\n",
    "\t* Delete unuseful data sets;\n",
    "\tproc datasets lib=work nolist;\n",
    "\t\tdelete id_comb_: comb_:;\n",
    "\trun;\n",
    "\t* i is the number of survivors;\n",
    "\t%do i=1 %to &n.;\n",
    "\t\t* Computing the number of combinations;\n",
    "\t\tdata _null_;\n",
    "\t\t\tcall symputx('nc',comb(&n.,&i.));\n",
    "\t\trun;\n",
    "        %put There are &nc. state(s) of the world with &i. survivors(s) in the population of &n. employees.;\n",
    "\t\t* Generating the combinations;\n",
    "\t\tproc plan seed=2025;\n",
    "\t\t\tfactors iter=&nc. ordered id_employee = &i. of &n. comb / noprint;\n",
    "\t\t\toutput out=comb_&i.;\n",
    "\t\trun;\n",
    "\t\t* Saving the results;\n",
    "\t\tdata id_comb_&i.;\t\t\t\n",
    "\t\t\tnumber_deaths=&n.-&i.;\n",
    "\t\t\tis_dead=0;\n",
    "\t\t\tset comb_&i.;\n",
    "\t\t\titer=&nc.-iter+1;\n",
    "\t\trun;\n",
    "\t%end;\n",
    "\t* Appending the results;\n",
    "\tdata alive;\n",
    "\t\tset id_comb_:;\n",
    "\trun;\n",
    "\t* Delete unuseful data sets;\n",
    "\tproc datasets lib=work nolist;\n",
    "\t\tdelete id_comb_: comb_:;\n",
    "\trun;\n",
    "\t* Appending the deaths and alives employees for each state of the world;\n",
    "\tdata comb;\n",
    "\t\tset death alive;\n",
    "\trun;\n",
    "\t* Ordering the data set to understand better the states of the world;\n",
    "\tproc sort data=comb;\n",
    "\t\tby number_deaths iter;\n",
    "\trun;\n",
    "\t* Delete unuseful data sets;\n",
    "\tproc datasets lib=work nolist;\n",
    "\t\tdelete death alive;\n",
    "\trun;\n",
    "%MEND;"
   ]
  },
  {
   "cell_type": "code",
   "execution_count": null,
   "id": "07d01f9c-8c7e-4fae-bb37-8eed859cf641",
   "metadata": {},
   "outputs": [],
   "source": [
    "* Execute the macro;\n",
    "%allcombinations(n=&ne.);"
   ]
  },
  {
   "cell_type": "markdown",
   "id": "2796ae24-7e5e-43e0-a45a-da0252baf369",
   "metadata": {},
   "source": [
    "The previous process produces the following data set:"
   ]
  },
  {
   "cell_type": "code",
   "execution_count": null,
   "id": "a30b14c7-55df-405a-80b1-15f56be7f61b",
   "metadata": {},
   "outputs": [],
   "source": [
    "options obs=100;\n",
    "proc print data=work.comb noobs;\n",
    "run;"
   ]
  },
  {
   "cell_type": "markdown",
   "id": "dd2c69f1-f044-4f9c-8a02-cd02952a61f7",
   "metadata": {},
   "source": [
    "Create the matrix of the parameters for each employee"
   ]
  },
  {
   "cell_type": "code",
   "execution_count": null,
   "id": "9098cdc3-fdec-400e-b038-aae2ed10d4ad",
   "metadata": {},
   "outputs": [],
   "source": [
    "proc iml;\n",
    "\t\n",
    "\t* Number of risk units in the individual risk model;\n",
    "\tn=&ne.;\n",
    "\t* Matrix for the parameters;\n",
    "\tpar=j(n,4,.);\n",
    "\t* ID employee;\n",
    "\tpar[,1]=t(do(1,n,1));\n",
    "\t* Benefits;\n",
    "\tpar[,2]={15000,16000,20000,28000,31000,18000,26000,24000,60000,14000,17000,19000,30000,55000};\n",
    "\t*par[,2]={15000,16000,20000};\n",
    "\t* Mortality rates;\n",
    "\tpar[,3]={0.000965,0.001069,0.001252,0.001434,0.001505,0.003751,0.004037,0.004698,0.017778,0.000884,0.001031,0.001201,0.002078,0.007682};\n",
    "\t*par[,3]={0.000965,0.001069,0.001252};\n",
    "\t* Survival rates;\n",
    "\tpar[,4]=1-par[,3];\n",
    "\tprint par;\n",
    "\tvarNames={\"id_employee\",\"benefit\",\"q\",\"p\"};\n",
    "\t* Sending the results to a dataset;\n",
    "\tcreate par from par[colname=varNames];\n",
    "\tappend from par;\n",
    "\tclose par;\t\n",
    "quit;"
   ]
  },
  {
   "cell_type": "markdown",
   "id": "d3b60a62-00aa-45d8-9c12-c63552dff011",
   "metadata": {},
   "source": [
    "Joining the states of the world with the parameters"
   ]
  },
  {
   "cell_type": "code",
   "execution_count": null,
   "id": "a823cc77-119b-4391-a3c5-380003bc3cd0",
   "metadata": {},
   "outputs": [],
   "source": [
    "proc sql;\n",
    "\tcreate table full_comb as\n",
    "\tselect\n",
    "\tb.*\n",
    "\t, case is_dead\n",
    "\twhen 1 then benefit\n",
    "\twhen 0 then 0 \n",
    "\telse 0 end as claim\n",
    "\t, case is_dead\n",
    "\twhen 1 then q\n",
    "\twhen 0 then p \n",
    "\telse 0 end as prob\n",
    "\tfrom work.par a right join work.comb b on (a.id_employee = b.id_employee)\n",
    "\torder by number_deaths, iter\n",
    "\t; \n",
    "quit;"
   ]
  },
  {
   "cell_type": "markdown",
   "id": "e392de58-58e6-4464-af4c-bb744b29660b",
   "metadata": {},
   "source": [
    "The previous process produces the following data set:"
   ]
  },
  {
   "cell_type": "code",
   "execution_count": null,
   "id": "bdef560e-3ef3-4b19-9afa-79d1bbd59224",
   "metadata": {},
   "outputs": [],
   "source": [
    "options obs=100;\n",
    "proc print data=work.full_comb noobs;\n",
    "run;"
   ]
  },
  {
   "cell_type": "markdown",
   "id": "53aea4ca-f968-4ad3-92f1-fcfb39fec3c3",
   "metadata": {},
   "source": [
    "Computing the total claim and its probability for each state of the world"
   ]
  },
  {
   "cell_type": "code",
   "execution_count": null,
   "id": "f56c8d15-a8c1-4b81-aa0d-8a468bb5264b",
   "metadata": {},
   "outputs": [],
   "source": [
    "proc sql;\n",
    "\tcreate table full_comb2 as\n",
    "\tselect\n",
    "\tnumber_deaths\n",
    "\t, iter\n",
    "\t, sum(claim) as S\n",
    "\t, EXP(SUM(LOG(prob))) as prob\n",
    "\tfrom full_comb\n",
    "\tgroup by number_deaths, iter\n",
    "\t;\n",
    "quit;"
   ]
  },
  {
   "cell_type": "markdown",
   "id": "02201a12-ee43-406f-9f6d-4961d7513792",
   "metadata": {},
   "source": [
    "The previous process produces the following data set:"
   ]
  },
  {
   "cell_type": "code",
   "execution_count": null,
   "id": "3b032fcd-3e9e-40c0-bb1e-85abc626f377",
   "metadata": {},
   "outputs": [],
   "source": [
    "options obs=100;\n",
    "proc print data=work.full_comb2 noobs;\n",
    "run;"
   ]
  },
  {
   "cell_type": "markdown",
   "id": "5c3f215a-430d-4d0d-90d5-a9e78ad5c9d4",
   "metadata": {},
   "source": [
    "Grouping by total claim and its probability"
   ]
  },
  {
   "cell_type": "code",
   "execution_count": null,
   "id": "77a015f7-5f05-46fa-8694-f8f8c1363c51",
   "metadata": {},
   "outputs": [],
   "source": [
    "proc sql;\n",
    "\tcreate table full_comb3 as\n",
    "\tselect\n",
    "\tS format nlnum16.2 label=\"Total claim in the group life insurance\"\n",
    "\t, sum(prob) as prob format 16.6 label=\"Probability\"\n",
    "\tfrom full_comb2\n",
    "\tgroup by S\n",
    "\torder by S\n",
    "\t;\n",
    "quit;"
   ]
  },
  {
   "cell_type": "markdown",
   "id": "b5ac888c-e1a3-4b71-8feb-72367d03a34c",
   "metadata": {},
   "source": [
    "The previous process produces the following data set:"
   ]
  },
  {
   "cell_type": "code",
   "execution_count": null,
   "id": "6bf64f69-0d0e-434c-a542-adecab09938f",
   "metadata": {},
   "outputs": [],
   "source": [
    "title \"Distribution of the aggregate loss (S)\";\n",
    "proc print data=full_comb3 noobs;\n",
    "run;\n",
    "title;"
   ]
  },
  {
   "cell_type": "code",
   "execution_count": null,
   "id": "f7d7da88-c33d-4c16-b7ff-fe928043aefd",
   "metadata": {},
   "outputs": [],
   "source": [
    "title \"Validation of the Distribution of the aggregate loss (S)\";\n",
    "proc means data=full_comb2 sum min max;\n",
    "\tvar prob;\n",
    "run;\n",
    "title;"
   ]
  },
  {
   "cell_type": "code",
   "execution_count": null,
   "id": "2af14688-77ff-48fb-9c7b-5f51adf91d8b",
   "metadata": {},
   "outputs": [],
   "source": [
    "title \"Distribution of the aggregate loss (S)\";\n",
    "proc sgplot data=full_comb3;\n",
    "\tneedle x=S y=prob;\n",
    "run;\n",
    "title;"
   ]
  },
  {
   "cell_type": "code",
   "execution_count": null,
   "id": "6b8cc56b-3938-4fb3-ada5-a387b4c588a4",
   "metadata": {},
   "outputs": [],
   "source": [
    "title \"Probability of losing money in this contract\";\n",
    "proc sql;\n",
    "\tselect sum(prob) as \"P[S>G]\"n\n",
    "\tfrom full_comb3\n",
    "\twhere S > &G.;\n",
    "quit;\n",
    "title;"
   ]
  },
  {
   "cell_type": "markdown",
   "id": "81f5d7d0-492a-4594-a55f-bb42f25639b9",
   "metadata": {},
   "source": [
    "## 🤷🏼 Which approximation would you choose❓ Why❓"
   ]
  },
  {
   "cell_type": "code",
   "execution_count": null,
   "id": "94f84df3-8027-4177-bb33-1b08fcdbffe1",
   "metadata": {},
   "outputs": [],
   "source": []
  }
 ],
 "metadata": {
  "kernelspec": {
   "display_name": "SAS",
   "language": "sas",
   "name": "sas"
  },
  "language_info": {
   "codemirror_mode": "sas",
   "file_extension": ".sas",
   "mimetype": "text/x-sas",
   "name": "sas"
  }
 },
 "nbformat": 4,
 "nbformat_minor": 5
}

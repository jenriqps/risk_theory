{
 "cells": [
  {
   "cell_type": "markdown",
   "id": "138dd25c-3523-4f95-9b20-666de486d386",
   "metadata": {},
   "source": [
    "# Exercise 1 | Topic 3 (SAS)"
   ]
  },
  {
   "cell_type": "markdown",
   "id": "83c17a35-4b68-4492-9849-c523cbe55b71",
   "metadata": {},
   "source": [
    "Implement a generalized linear model with SAS. Use the data set AutoCollision.csv and the following code (you can make any necessary adjustment)."
   ]
  },
  {
   "cell_type": "markdown",
   "id": "5c5c4916-e607-4b0c-9530-762689916861",
   "metadata": {},
   "source": [
    "## 1. Import data"
   ]
  },
  {
   "cell_type": "code",
   "execution_count": null,
   "id": "b92c4481-8e01-4bf2-9498-18b00a2d73b2",
   "metadata": {},
   "outputs": [],
   "source": [
    "libname mylib \"/export/viya/homes/perez-jose@lasallistas.org.mx\";"
   ]
  },
  {
   "cell_type": "code",
   "execution_count": null,
   "id": "87809df8-2753-46bf-9957-9ffa46a382a3",
   "metadata": {},
   "outputs": [],
   "source": [
    "proc sql;\n",
    "%if %sysfunc(exist(MYLIB.AUTOCOLL)) %then %do;\n",
    "    drop table MYLIB.AUTOCOLL;\n",
    "%end;\n",
    "%if %sysfunc(exist(MYLIB.AUTOCOLL,VIEW)) %then %do;\n",
    "    drop view MYLIB.AUTOCOLL;\n",
    "%end;\n",
    "quit;\n",
    "\n",
    "FILENAME REFFILE DISK '/export/viya/homes/perez-jose@lasallistas.org.mx/AutoCollision.csv';\n",
    "\n",
    "PROC IMPORT DATAFILE=REFFILE\n",
    "\tDBMS=CSV\n",
    "\tOUT=MYLIB.AUTOCOLL;\n",
    "\tGETNAMES=YES;\n",
    "RUN;\n",
    "\n",
    "PROC CONTENTS DATA=MYLIB.AUTOCOLL; RUN;"
   ]
  },
  {
   "cell_type": "markdown",
   "id": "b77ef623-d457-4f57-b650-f42663b07cca",
   "metadata": {},
   "source": [
    "## 2. Print the data"
   ]
  },
  {
   "cell_type": "code",
   "execution_count": null,
   "id": "cca62b2e-cd7b-4e64-a84d-4d03e9e22677",
   "metadata": {},
   "outputs": [],
   "source": [
    "proc print data=MYLIB.AUTOCOLL;\n",
    "run;"
   ]
  },
  {
   "cell_type": "code",
   "execution_count": null,
   "id": "be772818-3c82-4d76-bbff-30dbc110d888",
   "metadata": {},
   "outputs": [],
   "source": [
    "proc tabulate data=MYLIB.AUTOCOLL;\n",
    "    class age vehicle_use;\n",
    "    var severity claim_count;\n",
    "    table age*vehicle_use, severity*n claim_count*n;\n",
    "run;"
   ]
  },
  {
   "cell_type": "code",
   "execution_count": null,
   "id": "cca468e3-2da7-444a-8b63-3dcbeacd02d9",
   "metadata": {},
   "outputs": [],
   "source": [
    "proc tabulate data=MYLIB.AUTOCOLL;\n",
    "    class age vehicle_use;\n",
    "    var severity claim_count;\n",
    "    table age*vehicle_use, severity*mean claim_count*mean;\n",
    "run;"
   ]
  },
  {
   "cell_type": "markdown",
   "id": "5e30d301-1ec0-41f3-97ef-9106009a25bd",
   "metadata": {},
   "source": [
    "## 3. Estimate the model "
   ]
  },
  {
   "cell_type": "code",
   "execution_count": null,
   "id": "b5e19927-3246-4417-a9e8-8438b517cc15",
   "metadata": {},
   "outputs": [],
   "source": [
    "proc genmod data=MYLIB.AUTOCOLL;\n",
    "class age vehicle_use/ param=ref ref=first;\n",
    "model severity=age vehicle_use/dist=gamma link=log;\n",
    "weight claim_count;\n",
    "run;"
   ]
  },
  {
   "cell_type": "markdown",
   "id": "fbf72bfc-d6b9-47ff-a754-bea535c2c846",
   "metadata": {},
   "source": [
    "## 4. Calculate a premium."
   ]
  },
  {
   "cell_type": "markdown",
   "id": "da4e1e57-f3e9-4178-80fd-13d7e1a93161",
   "metadata": {},
   "source": [
    "Based on the SAS results, how much is the expected severity for a 39-year-old person whose car is for pleasure use? Round your answer to 2 decimals."
   ]
  },
  {
   "cell_type": "code",
   "execution_count": null,
   "id": "4e41841e-0ff3-4e1e-9f3c-7b987cb27df2",
   "metadata": {},
   "outputs": [],
   "source": []
  },
  {
   "cell_type": "markdown",
   "id": "14e2636e-1c01-4890-9610-11c4b86c402c",
   "metadata": {},
   "source": [
    "Based on the SAS results, calculate the premium with the expected value principle, use a = 0.5. Round your answer to 2 decimals."
   ]
  },
  {
   "cell_type": "code",
   "execution_count": null,
   "id": "a59d045c-d7d3-4cc1-a1d5-ef95154abc99",
   "metadata": {},
   "outputs": [],
   "source": []
  },
  {
   "cell_type": "code",
   "execution_count": null,
   "id": "5a6c2141-ca3a-4d63-8821-ec7186929dc9",
   "metadata": {},
   "outputs": [],
   "source": []
  }
 ],
 "metadata": {
  "kernelspec": {
   "display_name": "SAS",
   "language": "sas",
   "name": "sas"
  },
  "language_info": {
   "codemirror_mode": "sas",
   "file_extension": ".sas",
   "mimetype": "text/x-sas",
   "name": "sas"
  }
 },
 "nbformat": 4,
 "nbformat_minor": 5
}

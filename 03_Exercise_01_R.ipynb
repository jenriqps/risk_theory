{
 "cells": [
  {
   "cell_type": "markdown",
   "id": "551e90ca-37cc-49e5-b042-a8027840bbd9",
   "metadata": {},
   "source": [
    "# Exercise 1 | Topic 3 (R)"
   ]
  },
  {
   "cell_type": "markdown",
   "id": "ae9e0c6e-6366-4a18-bf05-6a817c361265",
   "metadata": {},
   "source": [
    "Implement a generalized linear model with R. Use the data set AutoCollision.csv and the following code (you can make any necessary adjustment)."
   ]
  },
  {
   "cell_type": "markdown",
   "id": "344a3d8d-bd0a-42ef-a4f2-8d16dc5c8e6f",
   "metadata": {},
   "source": [
    "## 1. Import data"
   ]
  },
  {
   "cell_type": "code",
   "execution_count": null,
   "id": "4ecbf737-b61a-494e-abdc-87b326ba9515",
   "metadata": {},
   "outputs": [],
   "source": [
    "autocoll <- read.csv(\"AutoCollision.csv\", quote = \"\", header = TRUE)"
   ]
  },
  {
   "cell_type": "markdown",
   "id": "7b436515-c434-431e-b9ce-a74aa350168d",
   "metadata": {},
   "source": [
    "## 2. Print the data"
   ]
  },
  {
   "cell_type": "code",
   "execution_count": null,
   "id": "4dd45a1a-a21f-45f9-a4f5-1ce7efe43977",
   "metadata": {},
   "outputs": [],
   "source": [
    "print(autocoll)"
   ]
  },
  {
   "cell_type": "code",
   "execution_count": null,
   "id": "27211df3-4e6f-435a-b9d3-701431a69cdb",
   "metadata": {},
   "outputs": [],
   "source": [
    "library(dplyr)\n",
    "library(tidyr)\n",
    "\n",
    "tabla <- autocoll %>%\n",
    "  group_by(Age, Vehicle_Use) %>%\n",
    "  summarise(\n",
    "    n = n(),  \n",
    "    .groups = 'drop'\n",
    "  ) %>%\n",
    "  pivot_wider(\n",
    "    names_from = Vehicle_Use,\n",
    "    values_from = n,\n",
    "    names_prefix = \"n_\",\n",
    "    values_fill = 0 \n",
    "  )\n",
    "\n",
    "print(tabla)"
   ]
  },
  {
   "cell_type": "code",
   "execution_count": null,
   "id": "3c49e9d0-0cae-4f34-b79d-ba250cbd3e22",
   "metadata": {},
   "outputs": [],
   "source": [
    "library(dplyr)\n",
    "\n",
    "result <- autocoll %>%\n",
    "  group_by(Age, Vehicle_Use) %>%\n",
    "  summarise(\n",
    "    mean_severity = mean(Severity, na.rm = TRUE),\n",
    "    mean_claim_count = mean(Claim_Count, na.rm = TRUE),\n",
    "    .groups = 'drop'\n",
    "  ) %>%\n",
    "  # Para replicar el formato de tabla de PROC TABULATE, imprimir en formato ancho\n",
    "  tidyr::pivot_wider(\n",
    "    names_from = Vehicle_Use,\n",
    "    values_from = c(mean_severity, mean_claim_count),\n",
    "    names_sep = \"_\"\n",
    "  )\n",
    "\n",
    "print(result)"
   ]
  },
  {
   "cell_type": "markdown",
   "id": "304f0a29-3fca-40db-93c0-68a59499a071",
   "metadata": {},
   "source": [
    "## 3. Estimate the model"
   ]
  },
  {
   "cell_type": "code",
   "execution_count": null,
   "id": "82d7f798-48e9-43a0-9f38-2bd3fb6aa816",
   "metadata": {},
   "outputs": [],
   "source": [
    "model1 <- glm(Severity ~ factor(Age) + factor(Vehicle_Use),\n",
    "    control = glm.control(maxit = 50), weights = Claim_Count, \n",
    "    data = AutoDat, family = Gamma(link = \"log\"))"
   ]
  },
  {
   "cell_type": "code",
   "execution_count": null,
   "id": "6602b2f0-e497-4bf3-a6ad-a618d20e0bea",
   "metadata": {},
   "outputs": [],
   "source": [
    "summary(model1)"
   ]
  },
  {
   "cell_type": "code",
   "execution_count": null,
   "id": "822f9dae-d22a-4d42-b783-b509b288563a",
   "metadata": {},
   "outputs": [],
   "source": [
    "model1$coefficients"
   ]
  },
  {
   "cell_type": "markdown",
   "id": "44d76980-d75c-4284-a381-4c54f0d6d0d8",
   "metadata": {},
   "source": [
    "## 4. Calculate a premium."
   ]
  },
  {
   "cell_type": "markdown",
   "id": "518b2878-adb5-4bb0-8c19-abd84eacfa98",
   "metadata": {},
   "source": [
    "Based on the R results, how much is the expected severity for a 39-year-old person whose car is for pleasure use? Round your answer to 2 decimals."
   ]
  },
  {
   "cell_type": "code",
   "execution_count": null,
   "id": "24381fb6-fd96-4006-9402-7d37c12ae695",
   "metadata": {},
   "outputs": [],
   "source": []
  },
  {
   "cell_type": "markdown",
   "id": "b3e8e44a-ac34-408c-913b-f7bf1239120e",
   "metadata": {},
   "source": [
    "Based on the R results, calculate the premium with the expected value principle, use a = 0.5. Round your answer to 2 decimals."
   ]
  },
  {
   "cell_type": "code",
   "execution_count": null,
   "id": "c6a8c0be-6c8c-43f1-9463-5b84a1d25773",
   "metadata": {},
   "outputs": [],
   "source": []
  },
  {
   "cell_type": "code",
   "execution_count": null,
   "id": "669c209e-61fc-4a62-bf6c-3fd6f90d09df",
   "metadata": {},
   "outputs": [],
   "source": []
  }
 ],
 "metadata": {
  "kernelspec": {
   "display_name": "R",
   "language": "R",
   "name": "ir"
  },
  "language_info": {
   "codemirror_mode": "r",
   "file_extension": ".r",
   "mimetype": "text/x-r-source",
   "name": "R",
   "pygments_lexer": "r",
   "version": "4.2.1"
  }
 },
 "nbformat": 4,
 "nbformat_minor": 5
}

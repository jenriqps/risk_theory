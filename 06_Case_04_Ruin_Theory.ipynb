{
 "cells": [
  {
   "cell_type": "markdown",
   "id": "303cf418-ef84-42a6-9f84-d80933cfca05",
   "metadata": {},
   "source": [
    "# Case 3 | Ruin Theory"
   ]
  },
  {
   "cell_type": "markdown",
   "id": "4c46ab3d-636c-45d6-ac7f-cd3822ca442e",
   "metadata": {},
   "source": [
    "Actuarial Science Undergratuate Program | Business Faculty | Risk Theory Class | José Enrique Pérez Salvador"
   ]
  },
  {
   "cell_type": "markdown",
   "id": "d1cdf138-6ff7-4928-b6e7-fe7578bc4103",
   "metadata": {},
   "source": [
    "A policy covers physical damage incurred by the trucks in a company’s fleet. The number of losses in a year has a Poisson distribution with $ \\lambda = 5 $. The amount of a single loss has a gamma distribution with $ \\alpha = 0.5 $ and $ \\theta=2,500 $. The insurance contract pays a maximum annual benefit of 20,000."
   ]
  },
  {
   "cell_type": "markdown",
   "id": "7a7fb076-e24a-48cb-aefd-be8f0613618b",
   "metadata": {},
   "source": [
    "## ❓1) Determine the probability that the maximum benefit will be paid. Use a span of 100 and the method of rounding."
   ]
  },
  {
   "cell_type": "markdown",
   "id": "6661f063-11c6-4a5a-8c45-101f348150e2",
   "metadata": {},
   "source": [
    "## ⏸️Method of Rounding"
   ]
  },
  {
   "cell_type": "markdown",
   "id": "41cc30bc-5356-46d0-b010-0ad69c0a51b1",
   "metadata": {},
   "source": [
    "The easiest approach to construct a discrete severity distribution from a continuous one is to place the discrete probabilities on multiples of a convenient unit of measurement $ h $, the span."
   ]
  },
  {
   "cell_type": "markdown",
   "id": "76f69b84-a7c5-4819-bd46-9c095ddf89e0",
   "metadata": {},
   "source": [
    "**Method of rounding (mass dispersal)**: Let $ f_j $, denote the probability placed at $ jh $, $ j =0, 1,2, \\dots $. Then set <br>\n",
    "$ f_0 = P\\left[ X < \\frac{h}{2} \\right] = F_X\\left( \\frac{h}{2} \\right) $ <br>\n",
    "$ f_j = P\\left[jh - \\frac{h}{2} \\leq X < jh + \\frac{h}{2} \\right] = F_X\\left( jh + \\frac{h}{2} \\right) - F_X\\left( jh - \\frac{h}{2} \\right) ,j=1,2,\\dots $"
   ]
  },
  {
   "cell_type": "markdown",
   "id": "e12db980-b138-49cd-8c34-88cc5e3ca9cc",
   "metadata": {},
   "source": [
    "This method concentrates all the probability one-half span on either side of $ jh $ and places it at $ jh $. There is an exception for the probability assigned to zero. This, in effect, rounds all amounts to the nearest convenient monetary unit, $ h $, the span of the distribution. When the continuous severity distribution is unbounded, it is reasonable to halt the discretization process at some point once most all the probability has been accounted for. If the index for this last point is $ m $, then $ f_m = l-F_X\\left[(m - 0.5)h \\right] $. With this method the discrete\n",
    "probabilities are never negative and sum to l, ensuring that the resulting distribution is\n",
    "legitimate."
   ]
  },
  {
   "cell_type": "markdown",
   "id": "5daa5d88-10f2-4d2b-8efc-e72eda2a61a2",
   "metadata": {},
   "source": [
    "<div style=\"text-align: right\">\n",
    "Klugman, Stuart A. et. al.  (2012). Loss Models: from Data to Decisions, 4th ed.,USA: Wiley.\n",
    "</div>"
   ]
  },
  {
   "cell_type": "markdown",
   "id": "ea7f508d-822e-441a-b19a-08ced270087f",
   "metadata": {},
   "source": [
    "## ▶️Solution (1)"
   ]
  },
  {
   "cell_type": "markdown",
   "id": "cae3be52-42a7-4f66-b327-1e46516594a1",
   "metadata": {},
   "source": [
    "The parameterization of the gamma distribution in Loss Models is:<br>\n",
    "- Probability density function: $ f(x)= \\frac{(x/\\theta)^\\alpha \\exp(-x/\\theta)}{x\\Gamma(\\alpha)} $ <br>"
   ]
  },
  {
   "cell_type": "markdown",
   "id": "5c0c6819-6d2c-42bd-8910-94351dcdfeab",
   "metadata": {},
   "source": [
    "The parameterization of the gamma distribution in SAS is:<br>\n",
    "- Probability density function: $ f(x)= \\frac{1}{\\lambda^a \\Gamma(a)} x^{a-1} \\exp(-x/\\lambda) $ <br>"
   ]
  },
  {
   "cell_type": "markdown",
   "id": "329e9350-2d73-423b-a27f-9ff5864d7aa8",
   "metadata": {},
   "source": [
    "🤷🏻‍♀️Do they use the same parameterization? Y/N"
   ]
  },
  {
   "cell_type": "markdown",
   "id": "3e50d1b6-4eaf-48d1-ad57-9c69f09e68a5",
   "metadata": {
    "tags": []
   },
   "source": [
    "### Parameters"
   ]
  },
  {
   "cell_type": "code",
   "execution_count": null,
   "id": "702fdff5-9867-491e-a13f-faff2659ee2f",
   "metadata": {},
   "outputs": [],
   "source": [
    "* Loss distribution;\n",
    "%let alpha=0.5;\n",
    "%let theta=2500;\n",
    "* Frequency distribution;\n",
    "%let lambda=5;\n",
    "* Discretization parameters of the loss distribution;\n",
    "* Maximum value of the discrete loss random variable (m x h);\n",
    "%let m=100;\n",
    "* Span for the discretization;\n",
    "%let h=100;\n",
    "* In 100 units;\n",
    "%let max_ben_h=200;\n",
    "%put &=alpha &=theta &=lambda &=m &=h &=max_ben_h;"
   ]
  },
  {
   "cell_type": "markdown",
   "id": "0cdfff6d-5c22-43f6-800c-d8815b4b7a4d",
   "metadata": {},
   "source": [
    "### Discretization of the gamma distribution"
   ]
  },
  {
   "cell_type": "code",
   "execution_count": null,
   "id": "ba760faa-f3d0-4527-8b1a-5586884a5799",
   "metadata": {},
   "outputs": [],
   "source": [
    "data work.gamma_discrete;\n",
    "    label\n",
    "        j = \"Index j\"\n",
    "        jh = \" Amount associated to the index j\"\n",
    "        low = \"If applies, lower limit of the interval\"\n",
    "        up = \"If applies, upper limit of the interval\"\n",
    "        fj = \"P[Xd=jh]\";\n",
    "    do j=0 to &m;\n",
    "        jh = j*&h.;\n",
    "        low=max(j*&h.-&h./2,0);\n",
    "        up=j*&h.+&h./2;\n",
    "        if j=&m then \n",
    "            fj=1-cdf('GAMMA',low,&alpha,&theta);\n",
    "        else\n",
    "            fj=cdf('GAMMA',up,&alpha,&theta)-cdf('GAMMA',low,&alpha,&theta);\n",
    "        output;\n",
    "    end;\n",
    "run;"
   ]
  },
  {
   "cell_type": "markdown",
   "id": "2540126d-2e60-4189-8652-472f2416c9e8",
   "metadata": {},
   "source": [
    "### Table of the probability function"
   ]
  },
  {
   "cell_type": "code",
   "execution_count": null,
   "id": "4cb40723-be1a-4632-a324-8dcb3cd44bf9",
   "metadata": {},
   "outputs": [],
   "source": [
    "title \"Probability function of the discrete loss random variable\";\n",
    "proc print data = work.gamma_discrete label;\n",
    "run;\n",
    "title;"
   ]
  },
  {
   "cell_type": "markdown",
   "id": "ccc0a26b-60b1-463c-954c-1774e13df318",
   "metadata": {},
   "source": [
    "### Checklist of the probability function"
   ]
  },
  {
   "cell_type": "code",
   "execution_count": null,
   "id": "4c8b2093-740f-4c9a-8721-0bc25c774daf",
   "metadata": {},
   "outputs": [],
   "source": [
    "title \"Checklist of the probability function\";\n",
    "proc means data=work.gamma_discrete n min max sum;\n",
    "run;\n",
    "title;"
   ]
  },
  {
   "cell_type": "markdown",
   "id": "3ff5a593-6299-405c-aee3-e7e9e1752cae",
   "metadata": {},
   "source": [
    "### Plot of the probability function"
   ]
  },
  {
   "cell_type": "code",
   "execution_count": null,
   "id": "f6526895-ff06-4299-af68-cd6d28fbc075",
   "metadata": {},
   "outputs": [],
   "source": [
    "title 'Discrete gamma severity distribution';\n",
    "ods graphics / reset width=10in height=4.8in imagemap noborder;\n",
    "proc sgplot data=work.gamma_discrete;\n",
    "needle x=jh y=fj /lineattrs=(color=pink pattern=2 thickness=1) markers markerattrs=(color=purple SYMBOL=circlefilled);\n",
    "xaxis grid;\n",
    "yaxis grid;\n",
    "run;\n",
    "title;"
   ]
  },
  {
   "cell_type": "markdown",
   "id": "3947b775-26f4-4349-8145-da0c736970dc",
   "metadata": {},
   "source": [
    "## ⏸️Panjer's recursion"
   ]
  },
  {
   "cell_type": "markdown",
   "id": "5ce74b49-546e-4120-8d66-6800b5bd8b8d",
   "metadata": {},
   "source": [
    "Based on the exercise 2 of homework 3, the Panjer's recursion is useful to get the distribution of the collective model $ S = \\sum_{i=0}^N X_i $ when the severity distribution $ f_X(x) $ is defined on $ 0,1,2,\\dots,m $ representing multiples of some convenient monetary unit and the frequency distribution is a member of the $ (a,b,1) $ class. The number $ m $ represents the largest possible payment and could be infinite.<br>\n",
    "Further, in the case of the Poisson distribution, the Panjer's recursion formula reduces to:<br>\n",
    "<center> $ f_S(x) = \\frac{\\lambda}{x} \\sum_{y=1}^{\\min(x,m)} y f_X(y) f_S(x-y),x=1,2,\\dots $ </center><br>\n",
    "with starting point: <br>\n",
    "<center> $ f_S(0) = \\exp(-\\lambda [ 1-f_X(0) ]) $ </center>"
   ]
  },
  {
   "cell_type": "markdown",
   "id": "7c9cad5a-3dc8-4a95-9d76-64be986caee2",
   "metadata": {},
   "source": [
    "<div style=\"text-align: right\">\n",
    "Klugman, Stuart A. et. al.  (2012). Loss Models: from Data to Decisions, 4th ed.,USA: Wiley.\n",
    "</div>"
   ]
  },
  {
   "cell_type": "markdown",
   "id": "b37c1a17-c5aa-4de2-ac24-a0ea7102494b",
   "metadata": {
    "tags": []
   },
   "source": [
    "## ▶️Solution (2)"
   ]
  },
  {
   "cell_type": "markdown",
   "id": "9fcf6f06-ef14-4b20-b7ab-38c7bba493ec",
   "metadata": {},
   "source": [
    "### Implementation of the Panjer's recursion formula"
   ]
  },
  {
   "cell_type": "code",
   "execution_count": null,
   "id": "8ac90fa6-4048-45f9-a9bf-a2aab75eeab0",
   "metadata": {},
   "outputs": [],
   "source": [
    "proc iml;\n",
    "    use work.gamma_discrete;\n",
    "    read all var _NUM_ into sev[colname=numVars];\n",
    "    close work.gamma_discrete;\n",
    "\n",
    "    start Panjer_Poisson(p, lambda);\n",
    "    /* Input validation */\n",
    "    if sum(p) > 1 | any(p < 0) then do;\n",
    "      print \"Error: p parameter is not a valid probability distribution\";\n",
    "      abort;\n",
    "    end;\n",
    "    if lambda * sum(p) > 727 then do;\n",
    "      print \"Error: Underflow condition detected\";\n",
    "      abort;\n",
    "    end;\n",
    "\n",
    "    /* Initialize variables */\n",
    "    r = nrow(p); /* Length of p vector */\n",
    "    f = exp(-lambda * sum(p)); /* Initial probability f(0) */\n",
    "    cumul = f; /* Cumulative probability */\n",
    "    s = 0; /* Iteration counter */\n",
    "\n",
    "    /* Panjer recursion loop */\n",
    "    do while (1);\n",
    "      s = s + 1;\n",
    "      m = min(s, r); /* Minimum of s and r */\n",
    "      /* Compute the sum for the recursion */\n",
    "      sum_term = 0;\n",
    "      do k = 1 to m;\n",
    "        sum_term = sum_term + (k * p[k] * f[s - k + 1]);\n",
    "      end;\n",
    "      last = (lambda / s) * sum_term;\n",
    "      f = f // last; /* Append new probability to f */\n",
    "      cumul = cumul + last; /* Update cumulative probability */\n",
    "\n",
    "      /* Exit condition */\n",
    "      if cumul > 0.99999999 then leave;\n",
    "    end;\n",
    "\n",
    "    return(f);\n",
    "    finish;\n",
    "\n",
    "    store module=_all_;\n",
    "\n",
    "    * DON'T INCLUDE IN THE VECTOR P[X=0];\n",
    "    myp=sev[,'fj'][2:nrow(sev)];\n",
    "    \n",
    "    fS = Panjer_Poisson(myp, &lambda.);\n",
    "    collective=t(0:(nrow(fS)-1))||fS;\n",
    "    \n",
    "    * We send the results to a data set;\n",
    "    create work.collective from collective;\n",
    "    append from collective;\n",
    "    close work.collective;  \n",
    "\n",
    "quit;"
   ]
  },
  {
   "cell_type": "markdown",
   "id": "d41772db-d3d6-40bb-b54e-f2a32803fba9",
   "metadata": {},
   "source": [
    "### Formatting the results data set"
   ]
  },
  {
   "cell_type": "code",
   "execution_count": null,
   "id": "c2839f23-6b98-42b3-8088-a5f7c9b79549",
   "metadata": {},
   "outputs": [],
   "source": [
    "* We add an index;\n",
    "proc datasets library=work nolist nodetails;\n",
    "    modify collective;\n",
    "    rename\n",
    "    col1=s\n",
    "    col2=fS;\n",
    "    label\n",
    "    s = \"Loss amount (in 100 units)\"\n",
    "    fs = \"P[S=s]\";\n",
    "quit;"
   ]
  },
  {
   "cell_type": "code",
   "execution_count": null,
   "id": "e6370365-1bff-4f10-9698-68fad6bc9127",
   "metadata": {},
   "outputs": [],
   "source": [
    "title \"Probability function of the aggregate losses (in 100 units)\";\n",
    "proc print data=work.collective(obs=10) label;\n",
    "run;\n",
    "title;"
   ]
  },
  {
   "cell_type": "markdown",
   "id": "12a56b4c-2496-4e7b-ad79-dcff701e4f65",
   "metadata": {},
   "source": [
    "### Checklist of the probability function"
   ]
  },
  {
   "cell_type": "code",
   "execution_count": null,
   "id": "c53153b1-6c35-4242-aeef-d91219d656b6",
   "metadata": {},
   "outputs": [],
   "source": [
    "title \"Checklist of the probability function\";\n",
    "proc means data=work.collective n min max sum;\n",
    "run;\n",
    "title;"
   ]
  },
  {
   "cell_type": "markdown",
   "id": "ce307b78-b0a0-490f-9559-6ada89034af7",
   "metadata": {},
   "source": [
    "### Plot of the probability function"
   ]
  },
  {
   "cell_type": "code",
   "execution_count": null,
   "id": "4ee4f111-fdec-42b4-a01b-b25a8cda0aa2",
   "metadata": {},
   "outputs": [],
   "source": [
    "title 'Distribution of the collective risk';\n",
    "ods graphics / reset width=10in height=4.8in imagemap noborder;\n",
    "proc sgplot data=work.collective;\n",
    "needle x=s y=fS /lineattrs=(color=pink pattern=2 thickness=1) markers markerattrs=(color=purple SYMBOL=circlefilled);\n",
    "xaxis grid;\n",
    "yaxis grid;\n",
    "run;\n",
    "title;"
   ]
  },
  {
   "cell_type": "markdown",
   "id": "98238042-05a3-4f16-9b2d-a655e6f290b3",
   "metadata": {},
   "source": [
    "### Answer"
   ]
  },
  {
   "cell_type": "code",
   "execution_count": null,
   "id": "518fdd8f-9562-49c4-9a94-fc2801671cb5",
   "metadata": {},
   "outputs": [],
   "source": [
    "title 'Probability that the maximum benefit will be paid';\n",
    "proc sql;\n",
    "    select sum(fs)\n",
    "    from work.collective\n",
    "    where s >= &max_ben_h\n",
    "    ;\n",
    "quit;\n",
    "title;"
   ]
  },
  {
   "cell_type": "markdown",
   "id": "1ca0c400-b696-47fc-ace7-d084511d37bd",
   "metadata": {},
   "source": [
    "## ❓2) Compute the expected value principle premium. Apply a 50% loading factor."
   ]
  },
  {
   "cell_type": "code",
   "execution_count": null,
   "id": "6fdcea19-da6f-4555-96b6-d5498dd86713",
   "metadata": {},
   "outputs": [],
   "source": [
    "%let load_fact=0.5;"
   ]
  },
  {
   "cell_type": "code",
   "execution_count": null,
   "id": "69b5b23c-6c4e-4b4f-b107-038cf1826be7",
   "metadata": {},
   "outputs": [],
   "source": [
    "title \"Expected value principle premium (in 100 units)\";\n",
    "proc sql;\n",
    "    select sum(min(s,&max_ben_h)*fS)*(1+&load_fact) into: premium\n",
    "    from work.collective\n",
    "    ;\n",
    "quit;\n",
    "title;"
   ]
  },
  {
   "cell_type": "code",
   "execution_count": null,
   "id": "b1e4b101-caac-41fd-9df8-4ede8f76e407",
   "metadata": {},
   "outputs": [],
   "source": [
    "%put &=premium;"
   ]
  },
  {
   "cell_type": "markdown",
   "id": "2479f92e-f61d-4027-9d43-a0b13e61b9dc",
   "metadata": {},
   "source": [
    "## ❓3) The initial surplus is 150 (in 100 units). Compute the ruin probabilities by time 1 year, 2 years and 3 years."
   ]
  },
  {
   "cell_type": "code",
   "execution_count": null,
   "id": "20d357fa-bf46-4fb5-ba92-d6b9cb6648ad",
   "metadata": {},
   "outputs": [],
   "source": [
    "%let u = 150;\n",
    "%put &=u;"
   ]
  },
  {
   "cell_type": "markdown",
   "id": "7e651a0a-5e28-413c-b790-9fc18e5df02d",
   "metadata": {},
   "source": [
    "### Ruin probability by 1 year"
   ]
  },
  {
   "cell_type": "code",
   "execution_count": null,
   "id": "55bc3041-79ef-4f5a-85db-fc98d318b847",
   "metadata": {},
   "outputs": [],
   "source": [
    "proc sql;\n",
    "    create table work.ruin_1 as\n",
    "    select \n",
    "    a.*\n",
    "    , &u + &premium - s as u_1 label=\"Surplus at time 1\"\n",
    "    from work.collective a\n",
    "    ;\n",
    "quit;"
   ]
  },
  {
   "cell_type": "code",
   "execution_count": null,
   "id": "84c54bf0-7b9f-4830-9610-10a0b62205ff",
   "metadata": {},
   "outputs": [],
   "source": [
    "title \"Probability function of the surplus at time 1\";\n",
    "proc print data=work.ruin_1(obs=10) label;\n",
    "run;\n",
    "title;"
   ]
  },
  {
   "cell_type": "code",
   "execution_count": null,
   "id": "2224f76e-7c6d-4fec-9c26-8273b9757e52",
   "metadata": {},
   "outputs": [],
   "source": [
    "title \"Checklist of the probability function\";\n",
    "proc means data=work.ruin_1 n min max sum;\n",
    "run;\n",
    "title;"
   ]
  },
  {
   "cell_type": "code",
   "execution_count": null,
   "id": "da155202-ec92-4727-98b2-83d0f26f996e",
   "metadata": {},
   "outputs": [],
   "source": [
    "title 'Distribution of the surplus at time 1';\n",
    "ods graphics / reset width=10in height=4.8in imagemap noborder;\n",
    "proc sgplot data=work.ruin_1;\n",
    "needle x=u_1 y=fS /lineattrs=(color=yellow pattern=2 thickness=1) markers markerattrs=(size=1pt color=green SYMBOL=circlefilled);\n",
    "xaxis grid;\n",
    "yaxis grid;\n",
    "run;\n",
    "title;"
   ]
  },
  {
   "cell_type": "code",
   "execution_count": null,
   "id": "62860497-f167-45e1-966b-71fda9528faf",
   "metadata": {},
   "outputs": [],
   "source": [
    "title \"Ruin probability by 1 year\";\n",
    "proc sql;\n",
    "    select sum(fS) into: pr1\n",
    "    from work.ruin_1\n",
    "    where u_1 <= 0\n",
    "    ;\n",
    "quit;\n",
    "title;"
   ]
  },
  {
   "cell_type": "code",
   "execution_count": null,
   "id": "4fe9369f-2b68-4b2c-8284-50fd11ad5d57",
   "metadata": {},
   "outputs": [],
   "source": [
    "%put &=pr1;"
   ]
  },
  {
   "cell_type": "markdown",
   "id": "5b03852a-c114-47ef-b07f-246c1607d7a4",
   "metadata": {},
   "source": [
    "### Ruin probability by 2 years"
   ]
  },
  {
   "cell_type": "code",
   "execution_count": null,
   "id": "6ea38054-e2cf-4f1d-972e-28a318d7f8b5",
   "metadata": {},
   "outputs": [],
   "source": [
    "proc sql;\n",
    "    create table work.ruin_2 as\n",
    "    select \n",
    "    a.*\n",
    "    , b.s as s2\n",
    "    , b.fS as fS2\n",
    "    , a.fS*b.fS as fu_2\n",
    "    , a.u_1 + &premium - b.s as u_2 label=\"Surplus at time 2\"\n",
    "    from work.ruin_1 a, work.collective b\n",
    "    ;\n",
    "quit;"
   ]
  },
  {
   "cell_type": "code",
   "execution_count": null,
   "id": "407c84ff-f725-4787-9769-b8096186c350",
   "metadata": {},
   "outputs": [],
   "source": [
    "title \"Probability function of the surplus at time 2\";\n",
    "proc print data=work.ruin_2(obs=10) label;\n",
    "run;\n",
    "title;"
   ]
  },
  {
   "cell_type": "code",
   "execution_count": null,
   "id": "759cb230-268d-47d8-8eb6-b1f9a5a9e16d",
   "metadata": {},
   "outputs": [],
   "source": [
    "title \"Checklist of the probability function\";\n",
    "proc means data=work.ruin_2 n min max sum;\n",
    "run;\n",
    "title;"
   ]
  },
  {
   "cell_type": "code",
   "execution_count": null,
   "id": "9a13d783-72cf-48fd-b981-208fa0ff10bc",
   "metadata": {},
   "outputs": [],
   "source": [
    "proc sql;\n",
    "    create table work.ruin_2_plot as\n",
    "    select\n",
    "    round(u_2,0.01) as u_2 label=\"Surplus at time 2\"\n",
    "    , sum(fu_2) as fu_2\n",
    "    from work.ruin_2\n",
    "    group by round(u_2,0.01)\n",
    "    ;\n",
    "quit;"
   ]
  },
  {
   "cell_type": "code",
   "execution_count": null,
   "id": "45909a32-38e1-4932-83ce-96acc5412513",
   "metadata": {},
   "outputs": [],
   "source": [
    "title 'Distribution of the surplus at time 2';\n",
    "ods graphics / reset width=10in height=4.8in imagemap noborder;\n",
    "proc sgplot data=work.ruin_2_plot;\n",
    "needle x=u_2 y=fu_2 /lineattrs=(color=yellow pattern=2 thickness=1) markers markerattrs=(size=1pt color=green SYMBOL=circlefilled);\n",
    "xaxis grid;\n",
    "yaxis grid;\n",
    "run;\n",
    "title;"
   ]
  },
  {
   "cell_type": "code",
   "execution_count": null,
   "id": "67929e6d-7ac0-459a-888a-58e8eef40df7",
   "metadata": {},
   "outputs": [],
   "source": [
    "title \"Ruin probability by 2 years\";\n",
    "proc sql;\n",
    "    select sum(fu_2) + &pr1 into: pr2\n",
    "    from work.ruin_2\n",
    "    where u_2 <= 0 and u_1 > 0\n",
    "    ;\n",
    "quit;\n",
    "title;"
   ]
  },
  {
   "cell_type": "markdown",
   "id": "0522c3db-ee31-44f8-ba48-0e89cfb90e2b",
   "metadata": {},
   "source": [
    "### Ruin probability by 3 years"
   ]
  },
  {
   "cell_type": "code",
   "execution_count": null,
   "id": "3778720b-23a7-4184-ba9f-4a89c4c946e0",
   "metadata": {},
   "outputs": [],
   "source": [
    "proc sql;\n",
    "    create table work.ruin_3 as\n",
    "    select \n",
    "    a.*\n",
    "    , b.s as s3\n",
    "    , b.fS as fS3\n",
    "    , a.fu_2*b.fS as fu_3\n",
    "    , a.u_2 + &premium - b.s as u_3 label=\"Surplus at time 3\"\n",
    "    from work.ruin_2 a, work.collective b\n",
    "    ;\n",
    "quit;"
   ]
  },
  {
   "cell_type": "code",
   "execution_count": null,
   "id": "d34be281-2b14-466e-beab-bbeb025a86c6",
   "metadata": {},
   "outputs": [],
   "source": [
    "title \"Probability function of the surplus at time 3\";\n",
    "proc print data=work.ruin_3(obs=10) label;\n",
    "run;\n",
    "title;"
   ]
  },
  {
   "cell_type": "code",
   "execution_count": null,
   "id": "a8860daa-b77b-4c24-bc5f-4f0636c55d7e",
   "metadata": {},
   "outputs": [],
   "source": [
    "title \"Checklist of the probability function\";\n",
    "proc means data=work.ruin_3 n min max sum;\n",
    "run;\n",
    "title;"
   ]
  },
  {
   "cell_type": "code",
   "execution_count": null,
   "id": "14deb782-9ef1-44d5-8944-c1de5407fee6",
   "metadata": {},
   "outputs": [],
   "source": [
    "proc sql;\n",
    "    create table work.ruin_3_plot as\n",
    "    select\n",
    "    round(u_3,0.01) as u_3 label=\"Surplus at time 3\"\n",
    "    , sum(fu_3) as fu_3\n",
    "    from work.ruin_3\n",
    "    group by round(u_3,0.01)\n",
    "    ;\n",
    "quit;"
   ]
  },
  {
   "cell_type": "code",
   "execution_count": null,
   "id": "590d6c47-0051-4af3-a72a-2a8e6987a2d9",
   "metadata": {},
   "outputs": [],
   "source": [
    "title 'Distribution of the surplus at time 3';\n",
    "ods graphics / reset width=10in height=4.8in imagemap noborder;\n",
    "proc sgplot data=work.ruin_3_plot;\n",
    "needle x=u_3 y=fu_3 /lineattrs=(color=yellow pattern=2 thickness=1) markers markerattrs=(size=1pt color=green SYMBOL=circlefilled);\n",
    "xaxis grid;\n",
    "yaxis grid;\n",
    "run;\n",
    "title;"
   ]
  },
  {
   "cell_type": "code",
   "execution_count": null,
   "id": "bba234d0-8dc3-4135-9100-4434bb768c7e",
   "metadata": {},
   "outputs": [],
   "source": [
    "title \"Ruin probability by 3 years\";\n",
    "proc sql;\n",
    "    select sum(fu_3) + &pr2 into: pr3\n",
    "    from work.ruin_3\n",
    "    where u_3 <= 0 and u_2 > 0 and u_1 > 0 \n",
    "    ;\n",
    "quit;\n",
    "title;"
   ]
  },
  {
   "cell_type": "code",
   "execution_count": null,
   "id": "1f52d1fb-636a-4a0b-b335-877b87d00b88",
   "metadata": {},
   "outputs": [],
   "source": [
    "%put &=pr1. &=pr2. &=pr3. "
   ]
  },
  {
   "cell_type": "code",
   "execution_count": null,
   "id": "4a58b163-2b88-42ab-b803-38adaa730378",
   "metadata": {},
   "outputs": [],
   "source": []
  }
 ],
 "metadata": {
  "kernelspec": {
   "display_name": "SAS",
   "language": "sas",
   "name": "sas"
  },
  "language_info": {
   "codemirror_mode": "sas",
   "file_extension": ".sas",
   "mimetype": "text/x-sas",
   "name": "sas"
  }
 },
 "nbformat": 4,
 "nbformat_minor": 5
}
